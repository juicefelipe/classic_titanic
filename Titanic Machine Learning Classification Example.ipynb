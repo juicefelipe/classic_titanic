{
 "cells": [
  {
   "cell_type": "code",
   "execution_count": 149,
   "id": "e3aa524a",
   "metadata": {},
   "outputs": [],
   "source": [
    "#import packages\n",
    "import pandas as pd\n",
    "import numpy as np\n",
    "import matplotlib.pyplot as plt\n",
    "import re\n",
    "from sklearn.preprocessing import StandardScaler\n",
    "from sklearn.linear_model import LogisticRegression\n",
    "from sklearn.ensemble import RandomForestClassifier, GradientBoostingClassifier\n",
    "from sklearn.model_selection import cross_val_score, RandomizedSearchCV, KFold\n",
    "from sklearn.naive_bayes import GaussianNB\n",
    "from sklearn.neighbors import KNeighborsClassifier\n",
    "from sklearn.discriminant_analysis import LinearDiscriminantAnalysis\n",
    "from sklearn.metrics import accuracy_score"
   ]
  },
  {
   "cell_type": "code",
   "execution_count": 150,
   "id": "1a26ea28",
   "metadata": {},
   "outputs": [
    {
     "data": {
      "text/html": [
       "<div>\n",
       "<style scoped>\n",
       "    .dataframe tbody tr th:only-of-type {\n",
       "        vertical-align: middle;\n",
       "    }\n",
       "\n",
       "    .dataframe tbody tr th {\n",
       "        vertical-align: top;\n",
       "    }\n",
       "\n",
       "    .dataframe thead th {\n",
       "        text-align: right;\n",
       "    }\n",
       "</style>\n",
       "<table border=\"1\" class=\"dataframe\">\n",
       "  <thead>\n",
       "    <tr style=\"text-align: right;\">\n",
       "      <th></th>\n",
       "      <th>PassengerId</th>\n",
       "      <th>Survived</th>\n",
       "      <th>Pclass</th>\n",
       "      <th>Name</th>\n",
       "      <th>Sex</th>\n",
       "      <th>Age</th>\n",
       "      <th>SibSp</th>\n",
       "      <th>Parch</th>\n",
       "      <th>Ticket</th>\n",
       "      <th>Fare</th>\n",
       "      <th>Cabin</th>\n",
       "      <th>Embarked</th>\n",
       "    </tr>\n",
       "  </thead>\n",
       "  <tbody>\n",
       "    <tr>\n",
       "      <th>0</th>\n",
       "      <td>1</td>\n",
       "      <td>0</td>\n",
       "      <td>3</td>\n",
       "      <td>Braund, Mr. Owen Harris</td>\n",
       "      <td>male</td>\n",
       "      <td>22.0</td>\n",
       "      <td>1</td>\n",
       "      <td>0</td>\n",
       "      <td>A/5 21171</td>\n",
       "      <td>7.2500</td>\n",
       "      <td>NaN</td>\n",
       "      <td>S</td>\n",
       "    </tr>\n",
       "    <tr>\n",
       "      <th>1</th>\n",
       "      <td>2</td>\n",
       "      <td>1</td>\n",
       "      <td>1</td>\n",
       "      <td>Cumings, Mrs. John Bradley (Florence Briggs Th...</td>\n",
       "      <td>female</td>\n",
       "      <td>38.0</td>\n",
       "      <td>1</td>\n",
       "      <td>0</td>\n",
       "      <td>PC 17599</td>\n",
       "      <td>71.2833</td>\n",
       "      <td>C85</td>\n",
       "      <td>C</td>\n",
       "    </tr>\n",
       "    <tr>\n",
       "      <th>2</th>\n",
       "      <td>3</td>\n",
       "      <td>1</td>\n",
       "      <td>3</td>\n",
       "      <td>Heikkinen, Miss. Laina</td>\n",
       "      <td>female</td>\n",
       "      <td>26.0</td>\n",
       "      <td>0</td>\n",
       "      <td>0</td>\n",
       "      <td>STON/O2. 3101282</td>\n",
       "      <td>7.9250</td>\n",
       "      <td>NaN</td>\n",
       "      <td>S</td>\n",
       "    </tr>\n",
       "    <tr>\n",
       "      <th>3</th>\n",
       "      <td>4</td>\n",
       "      <td>1</td>\n",
       "      <td>1</td>\n",
       "      <td>Futrelle, Mrs. Jacques Heath (Lily May Peel)</td>\n",
       "      <td>female</td>\n",
       "      <td>35.0</td>\n",
       "      <td>1</td>\n",
       "      <td>0</td>\n",
       "      <td>113803</td>\n",
       "      <td>53.1000</td>\n",
       "      <td>C123</td>\n",
       "      <td>S</td>\n",
       "    </tr>\n",
       "    <tr>\n",
       "      <th>4</th>\n",
       "      <td>5</td>\n",
       "      <td>0</td>\n",
       "      <td>3</td>\n",
       "      <td>Allen, Mr. William Henry</td>\n",
       "      <td>male</td>\n",
       "      <td>35.0</td>\n",
       "      <td>0</td>\n",
       "      <td>0</td>\n",
       "      <td>373450</td>\n",
       "      <td>8.0500</td>\n",
       "      <td>NaN</td>\n",
       "      <td>S</td>\n",
       "    </tr>\n",
       "  </tbody>\n",
       "</table>\n",
       "</div>"
      ],
      "text/plain": [
       "   PassengerId  Survived  Pclass  \\\n",
       "0            1         0       3   \n",
       "1            2         1       1   \n",
       "2            3         1       3   \n",
       "3            4         1       1   \n",
       "4            5         0       3   \n",
       "\n",
       "                                                Name     Sex   Age  SibSp  \\\n",
       "0                            Braund, Mr. Owen Harris    male  22.0      1   \n",
       "1  Cumings, Mrs. John Bradley (Florence Briggs Th...  female  38.0      1   \n",
       "2                             Heikkinen, Miss. Laina  female  26.0      0   \n",
       "3       Futrelle, Mrs. Jacques Heath (Lily May Peel)  female  35.0      1   \n",
       "4                           Allen, Mr. William Henry    male  35.0      0   \n",
       "\n",
       "   Parch            Ticket     Fare Cabin Embarked  \n",
       "0      0         A/5 21171   7.2500   NaN        S  \n",
       "1      0          PC 17599  71.2833   C85        C  \n",
       "2      0  STON/O2. 3101282   7.9250   NaN        S  \n",
       "3      0            113803  53.1000  C123        S  \n",
       "4      0            373450   8.0500   NaN        S  "
      ]
     },
     "execution_count": 150,
     "metadata": {},
     "output_type": "execute_result"
    }
   ],
   "source": [
    "#read in data\n",
    "titanic_train = pd.read_csv('C:/Users/juphillips/Datasets/titanic_train.csv')\n",
    "titanic_test = pd.read_csv('C:/Users/juphillips/Datasets/titanic_test.csv')\n",
    "titanic_train.head()"
   ]
  },
  {
   "cell_type": "code",
   "execution_count": 151,
   "id": "dfd6b798",
   "metadata": {},
   "outputs": [
    {
     "name": "stdout",
     "output_type": "stream",
     "text": [
      "(891, 12)\n",
      "Index(['PassengerId', 'Survived', 'Pclass', 'Name', 'Sex', 'Age', 'SibSp',\n",
      "       'Parch', 'Ticket', 'Fare', 'Cabin', 'Embarked'],\n",
      "      dtype='object')\n",
      "PassengerId      int64\n",
      "Survived         int64\n",
      "Pclass           int64\n",
      "Name            object\n",
      "Sex             object\n",
      "Age            float64\n",
      "SibSp            int64\n",
      "Parch            int64\n",
      "Ticket          object\n",
      "Fare           float64\n",
      "Cabin           object\n",
      "Embarked        object\n",
      "dtype: object\n",
      "       PassengerId    Survived      Pclass         Age       SibSp  \\\n",
      "count   891.000000  891.000000  891.000000  714.000000  891.000000   \n",
      "mean    446.000000    0.383838    2.308642   29.699118    0.523008   \n",
      "std     257.353842    0.486592    0.836071   14.526497    1.102743   \n",
      "min       1.000000    0.000000    1.000000    0.420000    0.000000   \n",
      "25%     223.500000    0.000000    2.000000   20.125000    0.000000   \n",
      "50%     446.000000    0.000000    3.000000   28.000000    0.000000   \n",
      "75%     668.500000    1.000000    3.000000   38.000000    1.000000   \n",
      "max     891.000000    1.000000    3.000000   80.000000    8.000000   \n",
      "\n",
      "            Parch        Fare  \n",
      "count  891.000000  891.000000  \n",
      "mean     0.381594   32.204208  \n",
      "std      0.806057   49.693429  \n",
      "min      0.000000    0.000000  \n",
      "25%      0.000000    7.910400  \n",
      "50%      0.000000   14.454200  \n",
      "75%      0.000000   31.000000  \n",
      "max      6.000000  512.329200  \n",
      "Survival Rate: 0.3838383838383838\n"
     ]
    }
   ],
   "source": [
    "#initial exploration\n",
    "print(titanic_train.shape)\n",
    "print(titanic_train.columns)\n",
    "print(titanic_train.dtypes)\n",
    "print(titanic_train.describe())\n",
    "print('Survival Rate:', titanic_train.Survived.mean())"
   ]
  },
  {
   "cell_type": "code",
   "execution_count": 152,
   "id": "22ef474b",
   "metadata": {},
   "outputs": [
    {
     "data": {
      "text/plain": [
       "PassengerId      0\n",
       "Survived         0\n",
       "Pclass           0\n",
       "Name             0\n",
       "Sex              0\n",
       "Age            177\n",
       "SibSp            0\n",
       "Parch            0\n",
       "Ticket           0\n",
       "Fare             0\n",
       "Cabin          687\n",
       "Embarked         2\n",
       "dtype: int64"
      ]
     },
     "execution_count": 152,
     "metadata": {},
     "output_type": "execute_result"
    }
   ],
   "source": [
    "#null analysis\n",
    "titanic_train.isna().sum()"
   ]
  },
  {
   "cell_type": "code",
   "execution_count": 153,
   "id": "a42703b5",
   "metadata": {},
   "outputs": [
    {
     "name": "stdout",
     "output_type": "stream",
     "text": [
      "S    644\n",
      "C    168\n",
      "Q     77\n",
      "Name: Embarked, dtype: int64\n"
     ]
    }
   ],
   "source": [
    "#beginning with the fewest nulls 'Embarked'\n",
    "print(titanic_train.Embarked.value_counts())"
   ]
  },
  {
   "cell_type": "code",
   "execution_count": 154,
   "id": "559b975f",
   "metadata": {},
   "outputs": [
    {
     "data": {
      "text/plain": [
       "S    646\n",
       "C    168\n",
       "Q     77\n",
       "Name: Embarked, dtype: int64"
      ]
     },
     "execution_count": 154,
     "metadata": {},
     "output_type": "execute_result"
    }
   ],
   "source": [
    "#impute nulls with mode for simplicity\n",
    "titanic_train.Embarked.fillna('S', inplace = True)\n",
    "titanic_train.Embarked.value_counts()"
   ]
  },
  {
   "cell_type": "code",
   "execution_count": 155,
   "id": "b56355fd",
   "metadata": {},
   "outputs": [
    {
     "data": {
      "text/html": [
       "<style  type=\"text/css\" >\n",
       "#T_30a82_row0_col0,#T_30a82_row1_col1,#T_30a82_row2_col2,#T_30a82_row3_col3,#T_30a82_row4_col4,#T_30a82_row5_col5,#T_30a82_row6_col6{\n",
       "            background-color:  #b40426;\n",
       "            color:  #f1f1f1;\n",
       "        }#T_30a82_row0_col1{\n",
       "            background-color:  #8caffe;\n",
       "            color:  #000000;\n",
       "        }#T_30a82_row0_col2{\n",
       "            background-color:  #a9c6fd;\n",
       "            color:  #000000;\n",
       "        }#T_30a82_row0_col3{\n",
       "            background-color:  #9dbdff;\n",
       "            color:  #000000;\n",
       "        }#T_30a82_row0_col4,#T_30a82_row3_col1{\n",
       "            background-color:  #799cf8;\n",
       "            color:  #000000;\n",
       "        }#T_30a82_row0_col5{\n",
       "            background-color:  #6c8ff1;\n",
       "            color:  #000000;\n",
       "        }#T_30a82_row0_col6{\n",
       "            background-color:  #b3cdfb;\n",
       "            color:  #000000;\n",
       "        }#T_30a82_row1_col0{\n",
       "            background-color:  #4961d2;\n",
       "            color:  #f1f1f1;\n",
       "        }#T_30a82_row1_col2{\n",
       "            background-color:  #6485ec;\n",
       "            color:  #000000;\n",
       "        }#T_30a82_row1_col3{\n",
       "            background-color:  #80a3fa;\n",
       "            color:  #000000;\n",
       "        }#T_30a82_row1_col4{\n",
       "            background-color:  #7ea1fa;\n",
       "            color:  #000000;\n",
       "        }#T_30a82_row1_col5{\n",
       "            background-color:  #85a8fc;\n",
       "            color:  #000000;\n",
       "        }#T_30a82_row1_col6{\n",
       "            background-color:  #e2dad5;\n",
       "            color:  #000000;\n",
       "        }#T_30a82_row2_col0{\n",
       "            background-color:  #4055c8;\n",
       "            color:  #f1f1f1;\n",
       "        }#T_30a82_row2_col1,#T_30a82_row2_col3,#T_30a82_row2_col6,#T_30a82_row3_col4,#T_30a82_row3_col5,#T_30a82_row4_col0,#T_30a82_row6_col2{\n",
       "            background-color:  #3b4cc0;\n",
       "            color:  #f1f1f1;\n",
       "        }#T_30a82_row2_col4{\n",
       "            background-color:  #9ebeff;\n",
       "            color:  #000000;\n",
       "        }#T_30a82_row2_col5{\n",
       "            background-color:  #7295f4;\n",
       "            color:  #000000;\n",
       "        }#T_30a82_row3_col0{\n",
       "            background-color:  #5572df;\n",
       "            color:  #000000;\n",
       "        }#T_30a82_row3_col2{\n",
       "            background-color:  #5e7de7;\n",
       "            color:  #000000;\n",
       "        }#T_30a82_row3_col6{\n",
       "            background-color:  #c5d6f2;\n",
       "            color:  #000000;\n",
       "        }#T_30a82_row4_col1{\n",
       "            background-color:  #84a7fc;\n",
       "            color:  #000000;\n",
       "        }#T_30a82_row4_col2{\n",
       "            background-color:  #c3d5f4;\n",
       "            color:  #000000;\n",
       "        }#T_30a82_row4_col3{\n",
       "            background-color:  #485fd1;\n",
       "            color:  #f1f1f1;\n",
       "        }#T_30a82_row4_col5{\n",
       "            background-color:  #dfdbd9;\n",
       "            color:  #000000;\n",
       "        }#T_30a82_row4_col6{\n",
       "            background-color:  #d2dbe8;\n",
       "            color:  #000000;\n",
       "        }#T_30a82_row5_col0{\n",
       "            background-color:  #4a63d3;\n",
       "            color:  #f1f1f1;\n",
       "        }#T_30a82_row5_col1{\n",
       "            background-color:  #a3c2fe;\n",
       "            color:  #000000;\n",
       "        }#T_30a82_row5_col2{\n",
       "            background-color:  #b5cdfa;\n",
       "            color:  #000000;\n",
       "        }#T_30a82_row5_col3{\n",
       "            background-color:  #6384eb;\n",
       "            color:  #000000;\n",
       "        }#T_30a82_row5_col4{\n",
       "            background-color:  #ead5c9;\n",
       "            color:  #000000;\n",
       "        }#T_30a82_row5_col6{\n",
       "            background-color:  #dbdcde;\n",
       "            color:  #000000;\n",
       "        }#T_30a82_row6_col0{\n",
       "            background-color:  #4e68d8;\n",
       "            color:  #000000;\n",
       "        }#T_30a82_row6_col1{\n",
       "            background-color:  #cdd9ec;\n",
       "            color:  #000000;\n",
       "        }#T_30a82_row6_col3{\n",
       "            background-color:  #abc8fd;\n",
       "            color:  #000000;\n",
       "        }#T_30a82_row6_col4{\n",
       "            background-color:  #b2ccfb;\n",
       "            color:  #000000;\n",
       "        }#T_30a82_row6_col5{\n",
       "            background-color:  #adc9fd;\n",
       "            color:  #000000;\n",
       "        }</style><table id=\"T_30a82_\" ><thead>    <tr>        <th class=\"blank level0\" ></th>        <th class=\"col_heading level0 col0\" >PassengerId</th>        <th class=\"col_heading level0 col1\" >Survived</th>        <th class=\"col_heading level0 col2\" >Pclass</th>        <th class=\"col_heading level0 col3\" >Age</th>        <th class=\"col_heading level0 col4\" >SibSp</th>        <th class=\"col_heading level0 col5\" >Parch</th>        <th class=\"col_heading level0 col6\" >Fare</th>    </tr></thead><tbody>\n",
       "                <tr>\n",
       "                        <th id=\"T_30a82_level0_row0\" class=\"row_heading level0 row0\" >PassengerId</th>\n",
       "                        <td id=\"T_30a82_row0_col0\" class=\"data row0 col0\" >1.00</td>\n",
       "                        <td id=\"T_30a82_row0_col1\" class=\"data row0 col1\" >-0.01</td>\n",
       "                        <td id=\"T_30a82_row0_col2\" class=\"data row0 col2\" >-0.04</td>\n",
       "                        <td id=\"T_30a82_row0_col3\" class=\"data row0 col3\" >0.04</td>\n",
       "                        <td id=\"T_30a82_row0_col4\" class=\"data row0 col4\" >-0.06</td>\n",
       "                        <td id=\"T_30a82_row0_col5\" class=\"data row0 col5\" >-0.00</td>\n",
       "                        <td id=\"T_30a82_row0_col6\" class=\"data row0 col6\" >0.01</td>\n",
       "            </tr>\n",
       "            <tr>\n",
       "                        <th id=\"T_30a82_level0_row1\" class=\"row_heading level0 row1\" >Survived</th>\n",
       "                        <td id=\"T_30a82_row1_col0\" class=\"data row1 col0\" >-0.01</td>\n",
       "                        <td id=\"T_30a82_row1_col1\" class=\"data row1 col1\" >1.00</td>\n",
       "                        <td id=\"T_30a82_row1_col2\" class=\"data row1 col2\" >-0.34</td>\n",
       "                        <td id=\"T_30a82_row1_col3\" class=\"data row1 col3\" >-0.08</td>\n",
       "                        <td id=\"T_30a82_row1_col4\" class=\"data row1 col4\" >-0.04</td>\n",
       "                        <td id=\"T_30a82_row1_col5\" class=\"data row1 col5\" >0.08</td>\n",
       "                        <td id=\"T_30a82_row1_col6\" class=\"data row1 col6\" >0.26</td>\n",
       "            </tr>\n",
       "            <tr>\n",
       "                        <th id=\"T_30a82_level0_row2\" class=\"row_heading level0 row2\" >Pclass</th>\n",
       "                        <td id=\"T_30a82_row2_col0\" class=\"data row2 col0\" >-0.04</td>\n",
       "                        <td id=\"T_30a82_row2_col1\" class=\"data row2 col1\" >-0.34</td>\n",
       "                        <td id=\"T_30a82_row2_col2\" class=\"data row2 col2\" >1.00</td>\n",
       "                        <td id=\"T_30a82_row2_col3\" class=\"data row2 col3\" >-0.37</td>\n",
       "                        <td id=\"T_30a82_row2_col4\" class=\"data row2 col4\" >0.08</td>\n",
       "                        <td id=\"T_30a82_row2_col5\" class=\"data row2 col5\" >0.02</td>\n",
       "                        <td id=\"T_30a82_row2_col6\" class=\"data row2 col6\" >-0.55</td>\n",
       "            </tr>\n",
       "            <tr>\n",
       "                        <th id=\"T_30a82_level0_row3\" class=\"row_heading level0 row3\" >Age</th>\n",
       "                        <td id=\"T_30a82_row3_col0\" class=\"data row3 col0\" >0.04</td>\n",
       "                        <td id=\"T_30a82_row3_col1\" class=\"data row3 col1\" >-0.08</td>\n",
       "                        <td id=\"T_30a82_row3_col2\" class=\"data row3 col2\" >-0.37</td>\n",
       "                        <td id=\"T_30a82_row3_col3\" class=\"data row3 col3\" >1.00</td>\n",
       "                        <td id=\"T_30a82_row3_col4\" class=\"data row3 col4\" >-0.31</td>\n",
       "                        <td id=\"T_30a82_row3_col5\" class=\"data row3 col5\" >-0.19</td>\n",
       "                        <td id=\"T_30a82_row3_col6\" class=\"data row3 col6\" >0.10</td>\n",
       "            </tr>\n",
       "            <tr>\n",
       "                        <th id=\"T_30a82_level0_row4\" class=\"row_heading level0 row4\" >SibSp</th>\n",
       "                        <td id=\"T_30a82_row4_col0\" class=\"data row4 col0\" >-0.06</td>\n",
       "                        <td id=\"T_30a82_row4_col1\" class=\"data row4 col1\" >-0.04</td>\n",
       "                        <td id=\"T_30a82_row4_col2\" class=\"data row4 col2\" >0.08</td>\n",
       "                        <td id=\"T_30a82_row4_col3\" class=\"data row4 col3\" >-0.31</td>\n",
       "                        <td id=\"T_30a82_row4_col4\" class=\"data row4 col4\" >1.00</td>\n",
       "                        <td id=\"T_30a82_row4_col5\" class=\"data row4 col5\" >0.41</td>\n",
       "                        <td id=\"T_30a82_row4_col6\" class=\"data row4 col6\" >0.16</td>\n",
       "            </tr>\n",
       "            <tr>\n",
       "                        <th id=\"T_30a82_level0_row5\" class=\"row_heading level0 row5\" >Parch</th>\n",
       "                        <td id=\"T_30a82_row5_col0\" class=\"data row5 col0\" >-0.00</td>\n",
       "                        <td id=\"T_30a82_row5_col1\" class=\"data row5 col1\" >0.08</td>\n",
       "                        <td id=\"T_30a82_row5_col2\" class=\"data row5 col2\" >0.02</td>\n",
       "                        <td id=\"T_30a82_row5_col3\" class=\"data row5 col3\" >-0.19</td>\n",
       "                        <td id=\"T_30a82_row5_col4\" class=\"data row5 col4\" >0.41</td>\n",
       "                        <td id=\"T_30a82_row5_col5\" class=\"data row5 col5\" >1.00</td>\n",
       "                        <td id=\"T_30a82_row5_col6\" class=\"data row5 col6\" >0.22</td>\n",
       "            </tr>\n",
       "            <tr>\n",
       "                        <th id=\"T_30a82_level0_row6\" class=\"row_heading level0 row6\" >Fare</th>\n",
       "                        <td id=\"T_30a82_row6_col0\" class=\"data row6 col0\" >0.01</td>\n",
       "                        <td id=\"T_30a82_row6_col1\" class=\"data row6 col1\" >0.26</td>\n",
       "                        <td id=\"T_30a82_row6_col2\" class=\"data row6 col2\" >-0.55</td>\n",
       "                        <td id=\"T_30a82_row6_col3\" class=\"data row6 col3\" >0.10</td>\n",
       "                        <td id=\"T_30a82_row6_col4\" class=\"data row6 col4\" >0.16</td>\n",
       "                        <td id=\"T_30a82_row6_col5\" class=\"data row6 col5\" >0.22</td>\n",
       "                        <td id=\"T_30a82_row6_col6\" class=\"data row6 col6\" >1.00</td>\n",
       "            </tr>\n",
       "    </tbody></table>"
      ],
      "text/plain": [
       "<pandas.io.formats.style.Styler at 0x22d806047c0>"
      ]
     },
     "execution_count": 155,
     "metadata": {},
     "output_type": "execute_result"
    }
   ],
   "source": [
    "#age nulls next\n",
    "#Instead of using only the mean, are there correlating features that can help us?\n",
    "train_corr = titanic_train.corr()\n",
    "train_corr.style.background_gradient(cmap = 'coolwarm').set_precision(2)"
   ]
  },
  {
   "cell_type": "code",
   "execution_count": 156,
   "id": "7409d3c7",
   "metadata": {
    "scrolled": true
   },
   "outputs": [
    {
     "name": "stdout",
     "output_type": "stream",
     "text": [
      "Mean age only: 29.69911764705882\n"
     ]
    },
    {
     "data": {
      "text/plain": [
       "Pclass\n",
       "1    37.0\n",
       "2    29.0\n",
       "3    24.0\n",
       "Name: Age, dtype: float64"
      ]
     },
     "execution_count": 156,
     "metadata": {},
     "output_type": "execute_result"
    }
   ],
   "source": [
    "#Pclass has the strongest correlation with Age\n",
    "print('Mean age only:', titanic_train.Age.mean())\n",
    "titanic_train.groupby('Pclass')['Age'].median()"
   ]
  },
  {
   "cell_type": "code",
   "execution_count": 157,
   "id": "eca1233e",
   "metadata": {},
   "outputs": [],
   "source": [
    "#impute with median age by Pclass\n",
    "titanic_train['Age'] = titanic_train.groupby('Pclass')['Age'].transform(lambda x: x.fillna(x.median()))\n",
    "#change Pclass to categorical variable\n",
    "titanic_train['Pclass'] = titanic_train['Pclass'].astype('category')"
   ]
  },
  {
   "cell_type": "code",
   "execution_count": 158,
   "id": "44f25928",
   "metadata": {},
   "outputs": [
    {
     "data": {
      "text/plain": [
       "U    687\n",
       "C     59\n",
       "B     47\n",
       "D     33\n",
       "E     32\n",
       "A     15\n",
       "F     13\n",
       "G      4\n",
       "T      1\n",
       "Name: Cabin_Letter, dtype: int64"
      ]
     },
     "execution_count": 158,
     "metadata": {},
     "output_type": "execute_result"
    }
   ],
   "source": [
    "#The cabin feature majority is null, but can we extract any value from this column?\n",
    "#use the cabin letter from each value and fill nulls with 'U' for 'Unknown'\n",
    "titanic_train['Cabin_Letter'] = titanic_train['Cabin'].str[0].fillna('U')\n",
    "titanic_train['Cabin_Letter'].value_counts()"
   ]
  },
  {
   "cell_type": "code",
   "execution_count": 159,
   "id": "9c7af858",
   "metadata": {},
   "outputs": [
    {
     "data": {
      "text/plain": [
       "Mr       517\n",
       "Miss     182\n",
       "Mrs      125\n",
       "Other     67\n",
       "Name: Title, dtype: int64"
      ]
     },
     "execution_count": 159,
     "metadata": {},
     "output_type": "execute_result"
    }
   ],
   "source": [
    "#Other new features could include family size and Title\n",
    "titanic_train['Family_Size'] = titanic_train['Parch'] + titanic_train['SibSp'] + 1\n",
    "titanic_train['Title'] = titanic_train.Name.str.extract(' ([A-Za-z]+)\\.', expand = False)\n",
    "titanic_train['Title'] = titanic_train.Title.replace(['Master', 'Dr', 'Rev', 'Col', 'Major', \n",
    "                                                      'Ms', 'Mlle', 'Countess', 'Lady', 'Dona', \n",
    "                                                      'Sir', 'Jonkheer', 'Don', 'Capt', 'Mme'], 'Other')\n",
    "titanic_train.Title.value_counts()"
   ]
  },
  {
   "cell_type": "code",
   "execution_count": 160,
   "id": "e1df1217",
   "metadata": {
    "scrolled": false
   },
   "outputs": [
    {
     "data": {
      "image/png": "[encoded data removed]",
      "text/plain": [
       "<Figure size 432x288 with 9 Axes>"
      ]
     },
     "metadata": {
      "needs_background": "light"
     },
     "output_type": "display_data"
    }
   ],
   "source": [
    "#Preprocessing numerical features\n",
    "#feature histograms\n",
    "titanic_train.hist()\n",
    "plt.show()"
   ]
  },
  {
   "cell_type": "code",
   "execution_count": 161,
   "id": "53597640",
   "metadata": {},
   "outputs": [
    {
     "data": {
      "image/png": "[encoded data removed]",
      "text/plain": [
       "<Figure size 432x288 with 12 Axes>"
      ]
     },
     "metadata": {
      "needs_background": "light"
     },
     "output_type": "display_data"
    }
   ],
   "source": [
    "#Square root transform to more closely approximate a normal distribution\n",
    "titanic_train['sqrt_Age'] = np.sqrt(titanic_train['Age'])\n",
    "titanic_train['sqrt_Fare'] = np.sqrt(titanic_train['Fare'])\n",
    "titanic_train['sqrt_Family'] = np.sqrt(titanic_train['Family_Size']+0.01)\n",
    "titanic_train.hist()\n",
    "plt.show()"
   ]
  },
  {
   "cell_type": "code",
   "execution_count": 162,
   "id": "fbe02701",
   "metadata": {},
   "outputs": [],
   "source": [
    "#to remain consistent we apply the same preprocessing steps to the test set\n",
    "titanic_test.Embarked.fillna('S', inplace = True)\n",
    "titanic_test['Age'] = titanic_train.groupby('Pclass')['Age'].transform(lambda x: x.fillna(x.median()))\n",
    "titanic_test['Cabin_Letter'] = titanic_test['Cabin'].str[0].fillna('U')\n",
    "titanic_test['Family_Size'] = titanic_test['Parch'] + titanic_test['SibSp'] + 1\n",
    "titanic_test['Title'] = titanic_test.Name.str.extract(' ([A-Za-z]+)\\.', expand = False)\n",
    "titanic_test['Title'] = titanic_test.Title.replace(['Master', 'Dr', 'Rev', 'Col', 'Major', \n",
    "                                                      'Ms', 'Mlle', 'Countess', 'Lady', 'Dona', \n",
    "                                                      'Sir', 'Jonkheer', 'Don', 'Capt', 'Mme'], 'Other')\n",
    "\n",
    "titanic_test['sqrt_Age'] = np.sqrt(titanic_test['Age'])\n",
    "titanic_test['Fare'] = titanic_train.groupby('Pclass')['Fare'].transform(lambda x: x.fillna(x.median()))\n",
    "titanic_test['sqrt_Fare'] = np.sqrt(titanic_test['Fare'])\n",
    "titanic_test['sqrt_Family'] = np.sqrt(titanic_test['Family_Size']+0.01)\n",
    "titanic_test['Pclass'] = titanic_test['Pclass'].astype('category')"
   ]
  },
  {
   "cell_type": "code",
   "execution_count": 163,
   "id": "9a4ed031",
   "metadata": {},
   "outputs": [],
   "source": [
    "###Modeling\n",
    "#split training data into features and labels\n",
    "modeling_columns = ['Pclass', 'sqrt_Age', 'sqrt_Fare', 'sqrt_Family', 'Embarked', 'Cabin_Letter', 'Sex', 'Title']\n",
    "X = titanic_train[modeling_columns]\n",
    "y = titanic_train['Survived']\n",
    "X_test = titanic_test[modeling_columns]\n",
    "\n",
    "X_full = X.append(X_test)"
   ]
  },
  {
   "cell_type": "code",
   "execution_count": 164,
   "id": "12bff3bc",
   "metadata": {},
   "outputs": [
    {
     "data": {
      "text/html": [
       "<style  type=\"text/css\" >\n",
       "#T_f911e_row0_col0,#T_f911e_row1_col1,#T_f911e_row2_col2{\n",
       "            background-color:  #b40426;\n",
       "            color:  #f1f1f1;\n",
       "        }#T_f911e_row0_col1,#T_f911e_row0_col2,#T_f911e_row2_col0{\n",
       "            background-color:  #3b4cc0;\n",
       "            color:  #f1f1f1;\n",
       "        }#T_f911e_row1_col0{\n",
       "            background-color:  #a9c6fd;\n",
       "            color:  #000000;\n",
       "        }#T_f911e_row1_col2{\n",
       "            background-color:  #e0dbd8;\n",
       "            color:  #000000;\n",
       "        }#T_f911e_row2_col1{\n",
       "            background-color:  #94b6ff;\n",
       "            color:  #000000;\n",
       "        }</style><table id=\"T_f911e_\" ><thead>    <tr>        <th class=\"blank level0\" ></th>        <th class=\"col_heading level0 col0\" >sqrt_Age</th>        <th class=\"col_heading level0 col1\" >sqrt_Fare</th>        <th class=\"col_heading level0 col2\" >sqrt_Family</th>    </tr></thead><tbody>\n",
       "                <tr>\n",
       "                        <th id=\"T_f911e_level0_row0\" class=\"row_heading level0 row0\" >sqrt_Age</th>\n",
       "                        <td id=\"T_f911e_row0_col0\" class=\"data row0 col0\" >1.00</td>\n",
       "                        <td id=\"T_f911e_row0_col1\" class=\"data row0 col1\" >0.11</td>\n",
       "                        <td id=\"T_f911e_row0_col2\" class=\"data row0 col2\" >-0.32</td>\n",
       "            </tr>\n",
       "            <tr>\n",
       "                        <th id=\"T_f911e_level0_row1\" class=\"row_heading level0 row1\" >sqrt_Fare</th>\n",
       "                        <td id=\"T_f911e_row1_col0\" class=\"data row1 col0\" >0.11</td>\n",
       "                        <td id=\"T_f911e_row1_col1\" class=\"data row1 col1\" >1.00</td>\n",
       "                        <td id=\"T_f911e_row1_col2\" class=\"data row1 col2\" >0.35</td>\n",
       "            </tr>\n",
       "            <tr>\n",
       "                        <th id=\"T_f911e_level0_row2\" class=\"row_heading level0 row2\" >sqrt_Family</th>\n",
       "                        <td id=\"T_f911e_row2_col0\" class=\"data row2 col0\" >-0.32</td>\n",
       "                        <td id=\"T_f911e_row2_col1\" class=\"data row2 col1\" >0.35</td>\n",
       "                        <td id=\"T_f911e_row2_col2\" class=\"data row2 col2\" >1.00</td>\n",
       "            </tr>\n",
       "    </tbody></table>"
      ],
      "text/plain": [
       "<pandas.io.formats.style.Styler at 0x22dfe215730>"
      ]
     },
     "execution_count": 164,
     "metadata": {},
     "output_type": "execute_result"
    }
   ],
   "source": [
    "#Ensure variables are sufficiently uncorrelated\n",
    "X_corr = X.corr()\n",
    "X_corr.style.background_gradient(cmap = 'coolwarm').set_precision(2)"
   ]
  },
  {
   "cell_type": "code",
   "execution_count": 165,
   "id": "9f0488c9",
   "metadata": {},
   "outputs": [],
   "source": [
    "#Satisfied we continue by one hot encoding categorical variables, scaling, and centering\n",
    "dummy = pd.get_dummies(X_full)\n",
    "X_dummy = dummy.iloc[:X.shape[0], :]\n",
    "X_test_dummy = dummy.iloc[X.shape[0]:, :]\n",
    "\n",
    "scaler = StandardScaler()\n",
    "X_scaled = scaler.fit_transform(X_dummy)\n",
    "X_test_scaled = scaler.transform(X_test_dummy)"
   ]
  },
  {
   "cell_type": "code",
   "execution_count": 166,
   "id": "e6f99c61",
   "metadata": {},
   "outputs": [],
   "source": [
    "#Time to try some models\n",
    "models = []\n",
    "models.append(('LR', LogisticRegression(max_iter=1000000)))\n",
    "models.append(('LDA', LinearDiscriminantAnalysis()))\n",
    "models.append(('KNN', KNeighborsClassifier()))\n",
    "models.append(('RF', RandomForestClassifier()))\n",
    "models.append(('NB', GaussianNB()))\n",
    "models.append(('GBM', GradientBoostingClassifier()))"
   ]
  },
  {
   "cell_type": "code",
   "execution_count": 167,
   "id": "74ff903d",
   "metadata": {},
   "outputs": [
    {
     "name": "stdout",
     "output_type": "stream",
     "text": [
      "LR: 0.815955 (0.047643)\n",
      "LDA: 0.813695 (0.041479)\n",
      "KNN: 0.809189 (0.032250)\n",
      "RF: 0.818177 (0.036182)\n",
      "NB: 0.713820 (0.052423)\n",
      "GBM: 0.833883 (0.033684)\n"
     ]
    }
   ],
   "source": [
    "# evaluate each model\n",
    "results = []\n",
    "names = []\n",
    "seed = 42\n",
    "\n",
    "for name, model in models:\n",
    "    kfold = KFold(n_splits = 10, random_state = seed, shuffle = True)\n",
    "    cv_results = cross_val_score(model, X_scaled, y, cv = kfold, scoring = 'accuracy')\n",
    "    results.append(cv_results)\n",
    "    names.append(name)\n",
    "    msg = \"%s: %f (%f)\" % (name, cv_results.mean(), cv_results.std())\n",
    "    print(msg)"
   ]
  },
  {
   "cell_type": "code",
   "execution_count": 168,
   "id": "00afa52f",
   "metadata": {},
   "outputs": [
    {
     "data": {
      "image/png": "[encoded data removed]",
      "text/plain": [
       "<Figure size 432x288 with 1 Axes>"
      ]
     },
     "metadata": {
      "needs_background": "light"
     },
     "output_type": "display_data"
    }
   ],
   "source": [
    "#####################################\n",
    "# Compare Algorithms\n",
    "fig = plt.figure()\n",
    "fig.suptitle('Algorithm Comparison')\n",
    "ax = fig.add_subplot(111)\n",
    "plt.boxplot(results)\n",
    "ax.set_xticklabels(names)\n",
    "plt.show()"
   ]
  },
  {
   "cell_type": "code",
   "execution_count": 169,
   "id": "b1f2ced6",
   "metadata": {
    "scrolled": true
   },
   "outputs": [
    {
     "data": {
      "text/plain": [
       "0.3588516746411483"
      ]
     },
     "execution_count": 169,
     "metadata": {},
     "output_type": "execute_result"
    }
   ],
   "source": [
    "#Choosing GBM we now make predictions on the test set\n",
    "gbm = GradientBoostingClassifier()\n",
    "gbm.fit(X_scaled, y)\n",
    "preds = gbm.predict(X_test_scaled)\n",
    "titanic_test['preds'] = preds\n",
    "titanic_test.preds.mean()"
   ]
  },
  {
   "cell_type": "markdown",
   "id": "188a8339",
   "metadata": {},
   "source": [
    "Additional steps to this project might include more in depth feature engineering, hyperparameter tuning, a holdout validation set to measure generalization performance, or consideration of better performance metrics to optimize."
   ]
  },
  {
   "cell_type": "code",
   "execution_count": null,
   "id": "08d92dcc",
   "metadata": {},
   "outputs": [],
   "source": []
  }
 ],
 "metadata": {
  "kernelspec": {
   "display_name": "Python 3",
   "language": "python",
   "name": "python3"
  },
  "language_info": {
   "codemirror_mode": {
    "name": "ipython",
    "version": 3
   },
   "file_extension": ".py",
   "mimetype": "text/x-python",
   "name": "python",
   "nbconvert_exporter": "python",
   "pygments_lexer": "ipython3",
   "version": "3.8.8"
  }
 },
 "nbformat": 4,
 "nbformat_minor": 5
}
